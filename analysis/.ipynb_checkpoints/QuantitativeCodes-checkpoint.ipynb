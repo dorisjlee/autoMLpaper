{
 "cells": [
  {
   "cell_type": "code",
   "execution_count": 1,
   "metadata": {},
   "outputs": [
    {
     "name": "stdout",
     "output_type": "stream",
     "text": [
      "Populating the interactive namespace from numpy and matplotlib\n"
     ]
    }
   ],
   "source": [
    "%pylab inline \n",
    "import pandas as pd\n",
    "import altair as alt"
   ]
  },
  {
   "cell_type": "code",
   "execution_count": 2,
   "metadata": {},
   "outputs": [],
   "source": [
    "df = pd.read_csv(\"autoMLQuantitativeResults - Survey Info.csv\")"
   ]
  },
  {
   "cell_type": "code",
   "execution_count": 3,
   "metadata": {},
   "outputs": [],
   "source": [
    "df.columns = df.iloc[0]\n",
    "df = df.reindex(df.index.drop(0)).reset_index(drop=True)\n",
    "df.columns.name = None"
   ]
  },
  {
   "cell_type": "code",
   "execution_count": 4,
   "metadata": {},
   "outputs": [
    {
     "data": {
      "text/html": [
       "<div>\n",
       "<style scoped>\n",
       "    .dataframe tbody tr th:only-of-type {\n",
       "        vertical-align: middle;\n",
       "    }\n",
       "\n",
       "    .dataframe tbody tr th {\n",
       "        vertical-align: top;\n",
       "    }\n",
       "\n",
       "    .dataframe thead th {\n",
       "        text-align: right;\n",
       "    }\n",
       "</style>\n",
       "<table border=\"1\" class=\"dataframe\">\n",
       "  <thead>\n",
       "    <tr style=\"text-align: right;\">\n",
       "      <th></th>\n",
       "      <th>Participant ID</th>\n",
       "      <th>Organization: Size</th>\n",
       "      <th>Organization: Type</th>\n",
       "      <th>Participant: Role</th>\n",
       "      <th>Data: Type</th>\n",
       "      <th>Programming: Language</th>\n",
       "      <th>Programming: Proficiency</th>\n",
       "      <th>Programming: Yr Experience</th>\n",
       "      <th>ML: Proficiency</th>\n",
       "      <th>ML: Yr Experience</th>\n",
       "      <th>...</th>\n",
       "      <th>Likert: Transparency</th>\n",
       "      <th>Likert: Interpretability</th>\n",
       "      <th>Likert: Customizability</th>\n",
       "      <th>Likert: Generalizability</th>\n",
       "      <th>Likert: Completeness</th>\n",
       "      <th>Likert: Ease of Use</th>\n",
       "      <th>Likert: Effectiveness</th>\n",
       "      <th>Likert: Efficiency</th>\n",
       "      <th>NaN</th>\n",
       "      <th>NaN</th>\n",
       "    </tr>\n",
       "  </thead>\n",
       "  <tbody>\n",
       "    <tr>\n",
       "      <th>0</th>\n",
       "      <td>1</td>\n",
       "      <td>Mid</td>\n",
       "      <td>Banking</td>\n",
       "      <td>Data Science</td>\n",
       "      <td>Structured data (Tables);Text</td>\n",
       "      <td>Python;R</td>\n",
       "      <td>4 - Advanced</td>\n",
       "      <td>30</td>\n",
       "      <td>3 - Intermediate</td>\n",
       "      <td>5</td>\n",
       "      <td>...</td>\n",
       "      <td>3</td>\n",
       "      <td>3</td>\n",
       "      <td>4</td>\n",
       "      <td>4</td>\n",
       "      <td>4</td>\n",
       "      <td>5</td>\n",
       "      <td>5</td>\n",
       "      <td>5</td>\n",
       "      <td>NaN</td>\n",
       "      <td>NaN</td>\n",
       "    </tr>\n",
       "    <tr>\n",
       "      <th>1</th>\n",
       "      <td>2</td>\n",
       "      <td>Small</td>\n",
       "      <td>Health</td>\n",
       "      <td>Data Science</td>\n",
       "      <td>Images</td>\n",
       "      <td>Python</td>\n",
       "      <td>4 - Advanced</td>\n",
       "      <td>8</td>\n",
       "      <td>3 - Intermediate</td>\n",
       "      <td>2</td>\n",
       "      <td>...</td>\n",
       "      <td>1</td>\n",
       "      <td>2</td>\n",
       "      <td>2</td>\n",
       "      <td>4</td>\n",
       "      <td>4</td>\n",
       "      <td>4</td>\n",
       "      <td>3</td>\n",
       "      <td>4</td>\n",
       "      <td>NaN</td>\n",
       "      <td>NaN</td>\n",
       "    </tr>\n",
       "    <tr>\n",
       "      <th>2</th>\n",
       "      <td>3</td>\n",
       "      <td>Large</td>\n",
       "      <td>Retail</td>\n",
       "      <td>Data Science</td>\n",
       "      <td>Structured data (Tables);Text</td>\n",
       "      <td>Python</td>\n",
       "      <td>4 - Advanced</td>\n",
       "      <td>4</td>\n",
       "      <td>4 - Advanced</td>\n",
       "      <td>7</td>\n",
       "      <td>...</td>\n",
       "      <td>4</td>\n",
       "      <td>5</td>\n",
       "      <td>4</td>\n",
       "      <td>3</td>\n",
       "      <td>4</td>\n",
       "      <td>5</td>\n",
       "      <td>4</td>\n",
       "      <td>5</td>\n",
       "      <td>NaN</td>\n",
       "      <td>NaN</td>\n",
       "    </tr>\n",
       "    <tr>\n",
       "      <th>3</th>\n",
       "      <td>4</td>\n",
       "      <td>Large</td>\n",
       "      <td>Tech</td>\n",
       "      <td>ML Research/Engineering</td>\n",
       "      <td>Structured data (Tables)</td>\n",
       "      <td>Python;SQL;C++</td>\n",
       "      <td>4 - Advanced</td>\n",
       "      <td>11</td>\n",
       "      <td>4 - Advanced</td>\n",
       "      <td>6</td>\n",
       "      <td>...</td>\n",
       "      <td>2</td>\n",
       "      <td>4</td>\n",
       "      <td>2</td>\n",
       "      <td>4</td>\n",
       "      <td>2</td>\n",
       "      <td>4</td>\n",
       "      <td>4</td>\n",
       "      <td>4</td>\n",
       "      <td>FBlearner</td>\n",
       "      <td>NaN</td>\n",
       "    </tr>\n",
       "    <tr>\n",
       "      <th>4</th>\n",
       "      <td>5</td>\n",
       "      <td>Large</td>\n",
       "      <td>University</td>\n",
       "      <td>Research</td>\n",
       "      <td>Structured data (Tables)</td>\n",
       "      <td>Python;R;Java</td>\n",
       "      <td>4 - Advanced</td>\n",
       "      <td>10</td>\n",
       "      <td>5 - Expert</td>\n",
       "      <td>3</td>\n",
       "      <td>...</td>\n",
       "      <td>4</td>\n",
       "      <td>4</td>\n",
       "      <td>5</td>\n",
       "      <td>4</td>\n",
       "      <td>3</td>\n",
       "      <td>4</td>\n",
       "      <td>5</td>\n",
       "      <td>5</td>\n",
       "      <td>NaN</td>\n",
       "      <td>NaN</td>\n",
       "    </tr>\n",
       "  </tbody>\n",
       "</table>\n",
       "<p>5 rows × 33 columns</p>\n",
       "</div>"
      ],
      "text/plain": [
       "  Participant ID Organization: Size Organization: Type  \\\n",
       "0              1                Mid            Banking   \n",
       "1              2              Small             Health   \n",
       "2              3              Large             Retail   \n",
       "3              4              Large               Tech   \n",
       "4              5              Large         University   \n",
       "\n",
       "         Participant: Role                     Data: Type  \\\n",
       "0             Data Science  Structured data (Tables);Text   \n",
       "1             Data Science                         Images   \n",
       "2             Data Science  Structured data (Tables);Text   \n",
       "3  ML Research/Engineering       Structured data (Tables)   \n",
       "4                 Research       Structured data (Tables)   \n",
       "\n",
       "  Programming: Language Programming: Proficiency Programming: Yr Experience  \\\n",
       "0              Python;R             4 - Advanced                         30   \n",
       "1                Python             4 - Advanced                          8   \n",
       "2                Python             4 - Advanced                          4   \n",
       "3        Python;SQL;C++             4 - Advanced                         11   \n",
       "4         Python;R;Java             4 - Advanced                         10   \n",
       "\n",
       "    ML: Proficiency ML: Yr Experience  ... Likert: Transparency  \\\n",
       "0  3 - Intermediate                 5  ...                    3   \n",
       "1  3 - Intermediate                 2  ...                    1   \n",
       "2      4 - Advanced                 7  ...                    4   \n",
       "3      4 - Advanced                 6  ...                    2   \n",
       "4        5 - Expert                 3  ...                    4   \n",
       "\n",
       "  Likert: Interpretability Likert: Customizability Likert: Generalizability  \\\n",
       "0                        3                       4                        4   \n",
       "1                        2                       2                        4   \n",
       "2                        5                       4                        3   \n",
       "3                        4                       2                        4   \n",
       "4                        4                       5                        4   \n",
       "\n",
       "  Likert: Completeness Likert: Ease of Use Likert: Effectiveness  \\\n",
       "0                    4                   5                     5   \n",
       "1                    4                   4                     3   \n",
       "2                    4                   5                     4   \n",
       "3                    2                   4                     4   \n",
       "4                    3                   4                     5   \n",
       "\n",
       "  Likert: Efficiency        NaN  NaN  \n",
       "0                  5        NaN  NaN  \n",
       "1                  4        NaN  NaN  \n",
       "2                  5        NaN  NaN  \n",
       "3                  4  FBlearner  NaN  \n",
       "4                  5        NaN  NaN  \n",
       "\n",
       "[5 rows x 33 columns]"
      ]
     },
     "execution_count": 4,
     "metadata": {},
     "output_type": "execute_result"
    }
   ],
   "source": [
    "df.head()"
   ]
  },
  {
   "cell_type": "code",
   "execution_count": 5,
   "metadata": {},
   "outputs": [],
   "source": [
    "singlechoice = ['Organization: Size','Organization: Type', 'Programming: Proficiency','ML: Proficiency']\n",
    "numerical = [ 'Programming: Yr Experience','ML: Yr Experience']\n",
    "\n",
    "multiselect = [ 'Participant: Role', 'Data: Type', 'Programming: Language', 'ML: Problem', 'AutoML: Stage']\n",
    "likert = ['Likert: Transparency', 'Likert: Interpretability', 'Likert: Customizability', 'Likert: Generalizability','Likert: Completeness','Likert: Ease of Use','Likert: Effectiveness','Likert: Efficiency']"
   ]
  },
  {
   "cell_type": "code",
   "execution_count": 6,
   "metadata": {},
   "outputs": [],
   "source": [
    "def plotSingleChoice(colOfInterest:str):\n",
    "    chart = alt.Chart(df[[\"Participant ID\"]+[colOfInterest]]).mark_bar().encode(\n",
    "        y=alt.Y(colOfInterest),\n",
    "        x=alt.X(\"count()\", axis= alt.Axis(tickMinStep=1))\n",
    "    )\n",
    "    return chart"
   ]
  },
  {
   "cell_type": "code",
   "execution_count": 7,
   "metadata": {},
   "outputs": [
    {
     "data": {
      "text/html": [
       "\n",
       "<div id=\"altair-viz-a3c0b0672cc748549cf5f30cb991b06c\"></div>\n",
       "<script type=\"text/javascript\">\n",
       "  (function(spec, embedOpt){\n",
       "    const outputDiv = document.getElementById(\"altair-viz-a3c0b0672cc748549cf5f30cb991b06c\");\n",
       "    const paths = {\n",
       "      \"vega\": \"https://cdn.jsdelivr.net/npm//vega@5?noext\",\n",
       "      \"vega-lib\": \"https://cdn.jsdelivr.net/npm//vega-lib?noext\",\n",
       "      \"vega-lite\": \"https://cdn.jsdelivr.net/npm//vega-lite@4.0.2?noext\",\n",
       "      \"vega-embed\": \"https://cdn.jsdelivr.net/npm//vega-embed@6?noext\",\n",
       "    };\n",
       "\n",
       "    function loadScript(lib) {\n",
       "      return new Promise(function(resolve, reject) {\n",
       "        var s = document.createElement('script');\n",
       "        s.src = paths[lib];\n",
       "        s.async = true;\n",
       "        s.onload = () => resolve(paths[lib]);\n",
       "        s.onerror = () => reject(`Error loading script: ${paths[lib]}`);\n",
       "        document.getElementsByTagName(\"head\")[0].appendChild(s);\n",
       "      });\n",
       "    }\n",
       "\n",
       "    function showError(err) {\n",
       "      outputDiv.innerHTML = `<div class=\"error\" style=\"color:red;\">${err}</div>`;\n",
       "      throw err;\n",
       "    }\n",
       "\n",
       "    function displayChart(vegaEmbed) {\n",
       "      vegaEmbed(outputDiv, spec, embedOpt)\n",
       "        .catch(err => showError(`Javascript Error: ${err.message}<br>This usually means there's a typo in your chart specification. See the javascript console for the full traceback.`));\n",
       "    }\n",
       "\n",
       "    if(typeof define === \"function\" && define.amd) {\n",
       "      requirejs.config({paths});\n",
       "      require([\"vega-embed\"], displayChart, err => showError(`Error loading script: ${err.message}`));\n",
       "    } else if (typeof vegaEmbed === \"function\") {\n",
       "      displayChart(vegaEmbed);\n",
       "    } else {\n",
       "      loadScript(\"vega\")\n",
       "        .then(() => loadScript(\"vega-lite\"))\n",
       "        .then(() => loadScript(\"vega-embed\"))\n",
       "        .catch(showError)\n",
       "        .then(() => displayChart(vegaEmbed));\n",
       "    }\n",
       "  })({\"config\": {\"view\": {\"continuousWidth\": 400, \"continuousHeight\": 300}}, \"data\": {\"name\": \"data-5b25d0b0c0960c663dc1ad58b549b13b\"}, \"mark\": \"bar\", \"encoding\": {\"x\": {\"type\": \"quantitative\", \"aggregate\": \"count\", \"axis\": {\"tickMinStep\": 1}}, \"y\": {\"type\": \"nominal\", \"field\": \"Organization: Size\"}}, \"$schema\": \"https://vega.github.io/schema/vega-lite/v4.0.2.json\", \"datasets\": {\"data-5b25d0b0c0960c663dc1ad58b549b13b\": [{\"Participant ID\": \"1\", \"Organization: Size\": \"Mid\"}, {\"Participant ID\": \"2\", \"Organization: Size\": \"Small\"}, {\"Participant ID\": \"3\", \"Organization: Size\": \"Large\"}, {\"Participant ID\": \"4\", \"Organization: Size\": \"Large\"}, {\"Participant ID\": \"5\", \"Organization: Size\": \"Large\"}, {\"Participant ID\": \"6\", \"Organization: Size\": \"Small\"}, {\"Participant ID\": \"7\", \"Organization: Size\": \"Large\"}, {\"Participant ID\": \"8\", \"Organization: Size\": \"Large\"}, {\"Participant ID\": \"9\", \"Organization: Size\": \"Small\"}, {\"Participant ID\": \"10\", \"Organization: Size\": \"Mid\"}, {\"Participant ID\": \"11\", \"Organization: Size\": \"Small\"}, {\"Participant ID\": \"12\", \"Organization: Size\": \"Mid\"}, {\"Participant ID\": \"13\", \"Organization: Size\": \"Large\"}, {\"Participant ID\": \"14\", \"Organization: Size\": \"Small\"}, {\"Participant ID\": \"15\", \"Organization: Size\": \"Large\"}, {\"Participant ID\": \"16\", \"Organization: Size\": \"Large\"}]}}, {\"mode\": \"vega-lite\"});\n",
       "</script>"
      ],
      "text/plain": [
       "alt.Chart(...)"
      ]
     },
     "metadata": {},
     "output_type": "display_data"
    },
    {
     "data": {
      "text/html": [
       "\n",
       "<div id=\"altair-viz-c504bd11c6e341da85d9f508826d8516\"></div>\n",
       "<script type=\"text/javascript\">\n",
       "  (function(spec, embedOpt){\n",
       "    const outputDiv = document.getElementById(\"altair-viz-c504bd11c6e341da85d9f508826d8516\");\n",
       "    const paths = {\n",
       "      \"vega\": \"https://cdn.jsdelivr.net/npm//vega@5?noext\",\n",
       "      \"vega-lib\": \"https://cdn.jsdelivr.net/npm//vega-lib?noext\",\n",
       "      \"vega-lite\": \"https://cdn.jsdelivr.net/npm//vega-lite@4.0.2?noext\",\n",
       "      \"vega-embed\": \"https://cdn.jsdelivr.net/npm//vega-embed@6?noext\",\n",
       "    };\n",
       "\n",
       "    function loadScript(lib) {\n",
       "      return new Promise(function(resolve, reject) {\n",
       "        var s = document.createElement('script');\n",
       "        s.src = paths[lib];\n",
       "        s.async = true;\n",
       "        s.onload = () => resolve(paths[lib]);\n",
       "        s.onerror = () => reject(`Error loading script: ${paths[lib]}`);\n",
       "        document.getElementsByTagName(\"head\")[0].appendChild(s);\n",
       "      });\n",
       "    }\n",
       "\n",
       "    function showError(err) {\n",
       "      outputDiv.innerHTML = `<div class=\"error\" style=\"color:red;\">${err}</div>`;\n",
       "      throw err;\n",
       "    }\n",
       "\n",
       "    function displayChart(vegaEmbed) {\n",
       "      vegaEmbed(outputDiv, spec, embedOpt)\n",
       "        .catch(err => showError(`Javascript Error: ${err.message}<br>This usually means there's a typo in your chart specification. See the javascript console for the full traceback.`));\n",
       "    }\n",
       "\n",
       "    if(typeof define === \"function\" && define.amd) {\n",
       "      requirejs.config({paths});\n",
       "      require([\"vega-embed\"], displayChart, err => showError(`Error loading script: ${err.message}`));\n",
       "    } else if (typeof vegaEmbed === \"function\") {\n",
       "      displayChart(vegaEmbed);\n",
       "    } else {\n",
       "      loadScript(\"vega\")\n",
       "        .then(() => loadScript(\"vega-lite\"))\n",
       "        .then(() => loadScript(\"vega-embed\"))\n",
       "        .catch(showError)\n",
       "        .then(() => displayChart(vegaEmbed));\n",
       "    }\n",
       "  })({\"config\": {\"view\": {\"continuousWidth\": 400, \"continuousHeight\": 300}}, \"data\": {\"name\": \"data-5caaa66ddaf005965fbfafce03670583\"}, \"mark\": \"bar\", \"encoding\": {\"x\": {\"type\": \"quantitative\", \"aggregate\": \"count\", \"axis\": {\"tickMinStep\": 1}}, \"y\": {\"type\": \"nominal\", \"field\": \"Organization: Type\"}}, \"$schema\": \"https://vega.github.io/schema/vega-lite/v4.0.2.json\", \"datasets\": {\"data-5caaa66ddaf005965fbfafce03670583\": [{\"Participant ID\": \"1\", \"Organization: Type\": \"Banking\"}, {\"Participant ID\": \"2\", \"Organization: Type\": \"Health\"}, {\"Participant ID\": \"3\", \"Organization: Type\": \"Retail\"}, {\"Participant ID\": \"4\", \"Organization: Type\": \"Tech\"}, {\"Participant ID\": \"5\", \"Organization: Type\": \"University\"}, {\"Participant ID\": \"6\", \"Organization: Type\": \"Healthcare\"}, {\"Participant ID\": \"7\", \"Organization: Type\": \"Finance\"}, {\"Participant ID\": \"8\", \"Organization: Type\": \"University\"}, {\"Participant ID\": \"9\", \"Organization: Type\": \"Tech\"}, {\"Participant ID\": \"10\", \"Organization: Type\": \"Travel\"}, {\"Participant ID\": \"11\", \"Organization: Type\": \"Tech\"}, {\"Participant ID\": \"12\", \"Organization: Type\": \"Education\"}, {\"Participant ID\": \"13\", \"Organization: Type\": \"Tech\"}, {\"Participant ID\": \"14\", \"Organization: Type\": \"Consulting\"}, {\"Participant ID\": \"15\", \"Organization: Type\": \"Pharmaceutical\"}, {\"Participant ID\": \"16\", \"Organization: Type\": \"Tech\"}]}}, {\"mode\": \"vega-lite\"});\n",
       "</script>"
      ],
      "text/plain": [
       "alt.Chart(...)"
      ]
     },
     "metadata": {},
     "output_type": "display_data"
    },
    {
     "data": {
      "text/html": [
       "\n",
       "<div id=\"altair-viz-d294299db9974adaab8f2a77969d91c6\"></div>\n",
       "<script type=\"text/javascript\">\n",
       "  (function(spec, embedOpt){\n",
       "    const outputDiv = document.getElementById(\"altair-viz-d294299db9974adaab8f2a77969d91c6\");\n",
       "    const paths = {\n",
       "      \"vega\": \"https://cdn.jsdelivr.net/npm//vega@5?noext\",\n",
       "      \"vega-lib\": \"https://cdn.jsdelivr.net/npm//vega-lib?noext\",\n",
       "      \"vega-lite\": \"https://cdn.jsdelivr.net/npm//vega-lite@4.0.2?noext\",\n",
       "      \"vega-embed\": \"https://cdn.jsdelivr.net/npm//vega-embed@6?noext\",\n",
       "    };\n",
       "\n",
       "    function loadScript(lib) {\n",
       "      return new Promise(function(resolve, reject) {\n",
       "        var s = document.createElement('script');\n",
       "        s.src = paths[lib];\n",
       "        s.async = true;\n",
       "        s.onload = () => resolve(paths[lib]);\n",
       "        s.onerror = () => reject(`Error loading script: ${paths[lib]}`);\n",
       "        document.getElementsByTagName(\"head\")[0].appendChild(s);\n",
       "      });\n",
       "    }\n",
       "\n",
       "    function showError(err) {\n",
       "      outputDiv.innerHTML = `<div class=\"error\" style=\"color:red;\">${err}</div>`;\n",
       "      throw err;\n",
       "    }\n",
       "\n",
       "    function displayChart(vegaEmbed) {\n",
       "      vegaEmbed(outputDiv, spec, embedOpt)\n",
       "        .catch(err => showError(`Javascript Error: ${err.message}<br>This usually means there's a typo in your chart specification. See the javascript console for the full traceback.`));\n",
       "    }\n",
       "\n",
       "    if(typeof define === \"function\" && define.amd) {\n",
       "      requirejs.config({paths});\n",
       "      require([\"vega-embed\"], displayChart, err => showError(`Error loading script: ${err.message}`));\n",
       "    } else if (typeof vegaEmbed === \"function\") {\n",
       "      displayChart(vegaEmbed);\n",
       "    } else {\n",
       "      loadScript(\"vega\")\n",
       "        .then(() => loadScript(\"vega-lite\"))\n",
       "        .then(() => loadScript(\"vega-embed\"))\n",
       "        .catch(showError)\n",
       "        .then(() => displayChart(vegaEmbed));\n",
       "    }\n",
       "  })({\"config\": {\"view\": {\"continuousWidth\": 400, \"continuousHeight\": 300}}, \"data\": {\"name\": \"data-b6f57cb7a820c3e3a0ccc2cd0558b5c6\"}, \"mark\": \"bar\", \"encoding\": {\"x\": {\"type\": \"quantitative\", \"aggregate\": \"count\", \"axis\": {\"tickMinStep\": 1}}, \"y\": {\"type\": \"nominal\", \"field\": \"Programming: Proficiency\"}}, \"$schema\": \"https://vega.github.io/schema/vega-lite/v4.0.2.json\", \"datasets\": {\"data-b6f57cb7a820c3e3a0ccc2cd0558b5c6\": [{\"Participant ID\": \"1\", \"Programming: Proficiency\": \"4 - Advanced\"}, {\"Participant ID\": \"2\", \"Programming: Proficiency\": \"4 - Advanced\"}, {\"Participant ID\": \"3\", \"Programming: Proficiency\": \"4 - Advanced\"}, {\"Participant ID\": \"4\", \"Programming: Proficiency\": \"4 - Advanced\"}, {\"Participant ID\": \"5\", \"Programming: Proficiency\": \"4 - Advanced\"}, {\"Participant ID\": \"6\", \"Programming: Proficiency\": \"4 - Advanced\"}, {\"Participant ID\": \"7\", \"Programming: Proficiency\": \"3 - Intermediate\"}, {\"Participant ID\": \"8\", \"Programming: Proficiency\": \"3 - Intermediate\"}, {\"Participant ID\": \"9\", \"Programming: Proficiency\": \"3 - Intermediate\"}, {\"Participant ID\": \"10\", \"Programming: Proficiency\": \"3 - Intermediate\"}, {\"Participant ID\": \"11\", \"Programming: Proficiency\": \"3 - Intermediate\"}, {\"Participant ID\": \"12\", \"Programming: Proficiency\": \"4 - Advanced\"}, {\"Participant ID\": \"13\", \"Programming: Proficiency\": \"4 - Advanced\"}, {\"Participant ID\": \"14\", \"Programming: Proficiency\": \"4 - Advanced\"}, {\"Participant ID\": \"15\", \"Programming: Proficiency\": \"4 - Advanced\"}, {\"Participant ID\": \"16\", \"Programming: Proficiency\": \"2 - Novice\"}]}}, {\"mode\": \"vega-lite\"});\n",
       "</script>"
      ],
      "text/plain": [
       "alt.Chart(...)"
      ]
     },
     "metadata": {},
     "output_type": "display_data"
    },
    {
     "data": {
      "text/html": [
       "\n",
       "<div id=\"altair-viz-c0bb5ee651844130bb2e66f7a41d3892\"></div>\n",
       "<script type=\"text/javascript\">\n",
       "  (function(spec, embedOpt){\n",
       "    const outputDiv = document.getElementById(\"altair-viz-c0bb5ee651844130bb2e66f7a41d3892\");\n",
       "    const paths = {\n",
       "      \"vega\": \"https://cdn.jsdelivr.net/npm//vega@5?noext\",\n",
       "      \"vega-lib\": \"https://cdn.jsdelivr.net/npm//vega-lib?noext\",\n",
       "      \"vega-lite\": \"https://cdn.jsdelivr.net/npm//vega-lite@4.0.2?noext\",\n",
       "      \"vega-embed\": \"https://cdn.jsdelivr.net/npm//vega-embed@6?noext\",\n",
       "    };\n",
       "\n",
       "    function loadScript(lib) {\n",
       "      return new Promise(function(resolve, reject) {\n",
       "        var s = document.createElement('script');\n",
       "        s.src = paths[lib];\n",
       "        s.async = true;\n",
       "        s.onload = () => resolve(paths[lib]);\n",
       "        s.onerror = () => reject(`Error loading script: ${paths[lib]}`);\n",
       "        document.getElementsByTagName(\"head\")[0].appendChild(s);\n",
       "      });\n",
       "    }\n",
       "\n",
       "    function showError(err) {\n",
       "      outputDiv.innerHTML = `<div class=\"error\" style=\"color:red;\">${err}</div>`;\n",
       "      throw err;\n",
       "    }\n",
       "\n",
       "    function displayChart(vegaEmbed) {\n",
       "      vegaEmbed(outputDiv, spec, embedOpt)\n",
       "        .catch(err => showError(`Javascript Error: ${err.message}<br>This usually means there's a typo in your chart specification. See the javascript console for the full traceback.`));\n",
       "    }\n",
       "\n",
       "    if(typeof define === \"function\" && define.amd) {\n",
       "      requirejs.config({paths});\n",
       "      require([\"vega-embed\"], displayChart, err => showError(`Error loading script: ${err.message}`));\n",
       "    } else if (typeof vegaEmbed === \"function\") {\n",
       "      displayChart(vegaEmbed);\n",
       "    } else {\n",
       "      loadScript(\"vega\")\n",
       "        .then(() => loadScript(\"vega-lite\"))\n",
       "        .then(() => loadScript(\"vega-embed\"))\n",
       "        .catch(showError)\n",
       "        .then(() => displayChart(vegaEmbed));\n",
       "    }\n",
       "  })({\"config\": {\"view\": {\"continuousWidth\": 400, \"continuousHeight\": 300}}, \"data\": {\"name\": \"data-915c86b2371c78f3a51b7979b31e3169\"}, \"mark\": \"bar\", \"encoding\": {\"x\": {\"type\": \"quantitative\", \"aggregate\": \"count\", \"axis\": {\"tickMinStep\": 1}}, \"y\": {\"type\": \"nominal\", \"field\": \"ML: Proficiency\"}}, \"$schema\": \"https://vega.github.io/schema/vega-lite/v4.0.2.json\", \"datasets\": {\"data-915c86b2371c78f3a51b7979b31e3169\": [{\"Participant ID\": \"1\", \"ML: Proficiency\": \"3 - Intermediate\"}, {\"Participant ID\": \"2\", \"ML: Proficiency\": \"3 - Intermediate\"}, {\"Participant ID\": \"3\", \"ML: Proficiency\": \"4 - Advanced\"}, {\"Participant ID\": \"4\", \"ML: Proficiency\": \"4 - Advanced\"}, {\"Participant ID\": \"5\", \"ML: Proficiency\": \"5 - Expert\"}, {\"Participant ID\": \"6\", \"ML: Proficiency\": \"4 - Advanced\"}, {\"Participant ID\": \"7\", \"ML: Proficiency\": \"3 - Intermediate\"}, {\"Participant ID\": \"8\", \"ML: Proficiency\": \"4 - Advanced\"}, {\"Participant ID\": \"9\", \"ML: Proficiency\": \"1 - Awareness\"}, {\"Participant ID\": \"10\", \"ML: Proficiency\": \"3 - Intermediate\"}, {\"Participant ID\": \"11\", \"ML: Proficiency\": \"4 - Advanced\"}, {\"Participant ID\": \"12\", \"ML: Proficiency\": \"4 - Advanced\"}, {\"Participant ID\": \"13\", \"ML: Proficiency\": \"4 - Advanced\"}, {\"Participant ID\": \"14\", \"ML: Proficiency\": \"3 - Intermediate\"}, {\"Participant ID\": \"15\", \"ML: Proficiency\": \"4 - Advanced\"}, {\"Participant ID\": \"16\", \"ML: Proficiency\": \"3 - Intermediate\"}]}}, {\"mode\": \"vega-lite\"});\n",
       "</script>"
      ],
      "text/plain": [
       "alt.Chart(...)"
      ]
     },
     "metadata": {},
     "output_type": "display_data"
    }
   ],
   "source": [
    "for col in singlechoice:\n",
    "    chart = plotSingleChoice(col)\n",
    "    display(chart)"
   ]
  },
  {
   "cell_type": "code",
   "execution_count": 8,
   "metadata": {},
   "outputs": [],
   "source": [
    "def convertListToBinarizedCols(df,groupbyCol:list, listCol:str):\n",
    "    combinedList = groupbyCol + [listCol]\n",
    "    newdf = df[combinedList]\n",
    "    newdf = newdf.set_index(groupbyCol)[listCol].str.split(\";\",expand=True).applymap(lambda x: x.strip() if isinstance(x, str) else x)\n",
    "    newdf = newdf.stack().reset_index().pivot_table(index=['Participant ID'], columns=0, fill_value=0, aggfunc='size').reset_index()\n",
    "    return newdf"
   ]
  },
  {
   "cell_type": "code",
   "execution_count": 9,
   "metadata": {},
   "outputs": [],
   "source": [
    "def plotMultiselect(df, colOfInterest:str,colLabel:str):\n",
    "    computed = convertListToBinarizedCols(df,[\"Participant ID\"],colOfInterest)\n",
    "    cols = list(computed.columns)\n",
    "    cols.remove(\"Participant ID\")\n",
    "    computeddf= computed[cols].aggregate(\"sum\",axis=0).rename(\"count\").reset_index().rename(columns={0:colLabel})\n",
    "    chart = alt.Chart(computeddf).mark_bar().encode(\n",
    "        y=alt.Y(colLabel,sort=\"-x\"),\n",
    "        x=alt.X(\"count\", axis= alt.Axis(tickMinStep=1))\n",
    "    )\n",
    "    return chart "
   ]
  },
  {
   "cell_type": "code",
   "execution_count": 10,
   "metadata": {
    "scrolled": true
   },
   "outputs": [
    {
     "data": {
      "text/html": [
       "\n",
       "<div id=\"altair-viz-1a7bf8af403e4cb6af58fa4b06972042\"></div>\n",
       "<script type=\"text/javascript\">\n",
       "  (function(spec, embedOpt){\n",
       "    const outputDiv = document.getElementById(\"altair-viz-1a7bf8af403e4cb6af58fa4b06972042\");\n",
       "    const paths = {\n",
       "      \"vega\": \"https://cdn.jsdelivr.net/npm//vega@5?noext\",\n",
       "      \"vega-lib\": \"https://cdn.jsdelivr.net/npm//vega-lib?noext\",\n",
       "      \"vega-lite\": \"https://cdn.jsdelivr.net/npm//vega-lite@4.0.2?noext\",\n",
       "      \"vega-embed\": \"https://cdn.jsdelivr.net/npm//vega-embed@6?noext\",\n",
       "    };\n",
       "\n",
       "    function loadScript(lib) {\n",
       "      return new Promise(function(resolve, reject) {\n",
       "        var s = document.createElement('script');\n",
       "        s.src = paths[lib];\n",
       "        s.async = true;\n",
       "        s.onload = () => resolve(paths[lib]);\n",
       "        s.onerror = () => reject(`Error loading script: ${paths[lib]}`);\n",
       "        document.getElementsByTagName(\"head\")[0].appendChild(s);\n",
       "      });\n",
       "    }\n",
       "\n",
       "    function showError(err) {\n",
       "      outputDiv.innerHTML = `<div class=\"error\" style=\"color:red;\">${err}</div>`;\n",
       "      throw err;\n",
       "    }\n",
       "\n",
       "    function displayChart(vegaEmbed) {\n",
       "      vegaEmbed(outputDiv, spec, embedOpt)\n",
       "        .catch(err => showError(`Javascript Error: ${err.message}<br>This usually means there's a typo in your chart specification. See the javascript console for the full traceback.`));\n",
       "    }\n",
       "\n",
       "    if(typeof define === \"function\" && define.amd) {\n",
       "      requirejs.config({paths});\n",
       "      require([\"vega-embed\"], displayChart, err => showError(`Error loading script: ${err.message}`));\n",
       "    } else if (typeof vegaEmbed === \"function\") {\n",
       "      displayChart(vegaEmbed);\n",
       "    } else {\n",
       "      loadScript(\"vega\")\n",
       "        .then(() => loadScript(\"vega-lite\"))\n",
       "        .then(() => loadScript(\"vega-embed\"))\n",
       "        .catch(showError)\n",
       "        .then(() => displayChart(vegaEmbed));\n",
       "    }\n",
       "  })({\"config\": {\"view\": {\"continuousWidth\": 400, \"continuousHeight\": 300}}, \"data\": {\"name\": \"data-29540c3e7c70c984a0a8f928582f9add\"}, \"mark\": \"bar\", \"encoding\": {\"x\": {\"type\": \"quantitative\", \"axis\": {\"tickMinStep\": 1}, \"field\": \"count\"}, \"y\": {\"type\": \"nominal\", \"field\": \"Data Type\", \"sort\": \"-x\"}}, \"$schema\": \"https://vega.github.io/schema/vega-lite/v4.0.2.json\", \"datasets\": {\"data-29540c3e7c70c984a0a8f928582f9add\": [{\"Data Type\": \"Images\", \"count\": 5}, {\"Data Type\": \"Structured data (Tables)\", \"count\": 12}, {\"Data Type\": \"Text\", \"count\": 6}, {\"Data Type\": \"Time series\", \"count\": 1}, {\"Data Type\": \"Videos\", \"count\": 1}]}}, {\"mode\": \"vega-lite\"});\n",
       "</script>"
      ],
      "text/plain": [
       "alt.Chart(...)"
      ]
     },
     "execution_count": 10,
     "metadata": {},
     "output_type": "execute_result"
    }
   ],
   "source": [
    "plotMultiselect(df, 'Data: Type', 'Data Type')"
   ]
  },
  {
   "cell_type": "code",
   "execution_count": 11,
   "metadata": {},
   "outputs": [
    {
     "data": {
      "text/html": [
       "\n",
       "<div id=\"altair-viz-ca7728b6026741a09894e30b95fd019e\"></div>\n",
       "<script type=\"text/javascript\">\n",
       "  (function(spec, embedOpt){\n",
       "    const outputDiv = document.getElementById(\"altair-viz-ca7728b6026741a09894e30b95fd019e\");\n",
       "    const paths = {\n",
       "      \"vega\": \"https://cdn.jsdelivr.net/npm//vega@5?noext\",\n",
       "      \"vega-lib\": \"https://cdn.jsdelivr.net/npm//vega-lib?noext\",\n",
       "      \"vega-lite\": \"https://cdn.jsdelivr.net/npm//vega-lite@4.0.2?noext\",\n",
       "      \"vega-embed\": \"https://cdn.jsdelivr.net/npm//vega-embed@6?noext\",\n",
       "    };\n",
       "\n",
       "    function loadScript(lib) {\n",
       "      return new Promise(function(resolve, reject) {\n",
       "        var s = document.createElement('script');\n",
       "        s.src = paths[lib];\n",
       "        s.async = true;\n",
       "        s.onload = () => resolve(paths[lib]);\n",
       "        s.onerror = () => reject(`Error loading script: ${paths[lib]}`);\n",
       "        document.getElementsByTagName(\"head\")[0].appendChild(s);\n",
       "      });\n",
       "    }\n",
       "\n",
       "    function showError(err) {\n",
       "      outputDiv.innerHTML = `<div class=\"error\" style=\"color:red;\">${err}</div>`;\n",
       "      throw err;\n",
       "    }\n",
       "\n",
       "    function displayChart(vegaEmbed) {\n",
       "      vegaEmbed(outputDiv, spec, embedOpt)\n",
       "        .catch(err => showError(`Javascript Error: ${err.message}<br>This usually means there's a typo in your chart specification. See the javascript console for the full traceback.`));\n",
       "    }\n",
       "\n",
       "    if(typeof define === \"function\" && define.amd) {\n",
       "      requirejs.config({paths});\n",
       "      require([\"vega-embed\"], displayChart, err => showError(`Error loading script: ${err.message}`));\n",
       "    } else if (typeof vegaEmbed === \"function\") {\n",
       "      displayChart(vegaEmbed);\n",
       "    } else {\n",
       "      loadScript(\"vega\")\n",
       "        .then(() => loadScript(\"vega-lite\"))\n",
       "        .then(() => loadScript(\"vega-embed\"))\n",
       "        .catch(showError)\n",
       "        .then(() => displayChart(vegaEmbed));\n",
       "    }\n",
       "  })({\"config\": {\"view\": {\"continuousWidth\": 400, \"continuousHeight\": 300}}, \"data\": {\"name\": \"data-df5276e1ac95bf2e1e33c1807e3fe445\"}, \"mark\": \"bar\", \"encoding\": {\"x\": {\"type\": \"quantitative\", \"axis\": {\"tickMinStep\": 1}, \"field\": \"count\"}, \"y\": {\"type\": \"nominal\", \"field\": \"Job Title\", \"sort\": \"-x\"}}, \"$schema\": \"https://vega.github.io/schema/vega-lite/v4.0.2.json\", \"datasets\": {\"data-df5276e1ac95bf2e1e33c1807e3fe445\": [{\"Job Title\": \"Data Science\", \"count\": 7}, {\"Job Title\": \"Executive\", \"count\": 1}, {\"Job Title\": \"Infrastructure and Software Engineering\", \"count\": 1}, {\"Job Title\": \"ML Research/Engineering\", \"count\": 2}, {\"Job Title\": \"Product Management\", \"count\": 2}, {\"Job Title\": \"Research\", \"count\": 4}]}}, {\"mode\": \"vega-lite\"});\n",
       "</script>"
      ],
      "text/plain": [
       "alt.Chart(...)"
      ]
     },
     "execution_count": 11,
     "metadata": {},
     "output_type": "execute_result"
    }
   ],
   "source": [
    "plotMultiselect(df, 'Participant: Role', 'Job Title')"
   ]
  },
  {
   "cell_type": "code",
   "execution_count": 12,
   "metadata": {},
   "outputs": [
    {
     "data": {
      "text/html": [
       "\n",
       "<div id=\"altair-viz-348b6d76ed17436bb6d15e4f5422bc9b\"></div>\n",
       "<script type=\"text/javascript\">\n",
       "  (function(spec, embedOpt){\n",
       "    const outputDiv = document.getElementById(\"altair-viz-348b6d76ed17436bb6d15e4f5422bc9b\");\n",
       "    const paths = {\n",
       "      \"vega\": \"https://cdn.jsdelivr.net/npm//vega@5?noext\",\n",
       "      \"vega-lib\": \"https://cdn.jsdelivr.net/npm//vega-lib?noext\",\n",
       "      \"vega-lite\": \"https://cdn.jsdelivr.net/npm//vega-lite@4.0.2?noext\",\n",
       "      \"vega-embed\": \"https://cdn.jsdelivr.net/npm//vega-embed@6?noext\",\n",
       "    };\n",
       "\n",
       "    function loadScript(lib) {\n",
       "      return new Promise(function(resolve, reject) {\n",
       "        var s = document.createElement('script');\n",
       "        s.src = paths[lib];\n",
       "        s.async = true;\n",
       "        s.onload = () => resolve(paths[lib]);\n",
       "        s.onerror = () => reject(`Error loading script: ${paths[lib]}`);\n",
       "        document.getElementsByTagName(\"head\")[0].appendChild(s);\n",
       "      });\n",
       "    }\n",
       "\n",
       "    function showError(err) {\n",
       "      outputDiv.innerHTML = `<div class=\"error\" style=\"color:red;\">${err}</div>`;\n",
       "      throw err;\n",
       "    }\n",
       "\n",
       "    function displayChart(vegaEmbed) {\n",
       "      vegaEmbed(outputDiv, spec, embedOpt)\n",
       "        .catch(err => showError(`Javascript Error: ${err.message}<br>This usually means there's a typo in your chart specification. See the javascript console for the full traceback.`));\n",
       "    }\n",
       "\n",
       "    if(typeof define === \"function\" && define.amd) {\n",
       "      requirejs.config({paths});\n",
       "      require([\"vega-embed\"], displayChart, err => showError(`Error loading script: ${err.message}`));\n",
       "    } else if (typeof vegaEmbed === \"function\") {\n",
       "      displayChart(vegaEmbed);\n",
       "    } else {\n",
       "      loadScript(\"vega\")\n",
       "        .then(() => loadScript(\"vega-lite\"))\n",
       "        .then(() => loadScript(\"vega-embed\"))\n",
       "        .catch(showError)\n",
       "        .then(() => displayChart(vegaEmbed));\n",
       "    }\n",
       "  })({\"config\": {\"view\": {\"continuousWidth\": 400, \"continuousHeight\": 300}}, \"data\": {\"name\": \"data-9b20c79c3983d6a0e026c9065d809825\"}, \"mark\": \"bar\", \"encoding\": {\"x\": {\"type\": \"quantitative\", \"axis\": {\"tickMinStep\": 1}, \"field\": \"count\"}, \"y\": {\"type\": \"nominal\", \"field\": \"Prog Language\", \"sort\": \"-x\"}}, \"$schema\": \"https://vega.github.io/schema/vega-lite/v4.0.2.json\", \"datasets\": {\"data-9b20c79c3983d6a0e026c9065d809825\": [{\"Prog Language\": \"Bash\", \"count\": 1}, {\"Prog Language\": \"C#\", \"count\": 1}, {\"Prog Language\": \"C++\", \"count\": 2}, {\"Prog Language\": \"ElasticSearch\", \"count\": 1}, {\"Prog Language\": \"Java\", \"count\": 1}, {\"Prog Language\": \"Javascript\", \"count\": 1}, {\"Prog Language\": \"Python\", \"count\": 16}, {\"Prog Language\": \"R\", \"count\": 6}, {\"Prog Language\": \"SQL\", \"count\": 4}, {\"Prog Language\": \"Scala\", \"count\": 1}]}}, {\"mode\": \"vega-lite\"});\n",
       "</script>"
      ],
      "text/plain": [
       "alt.Chart(...)"
      ]
     },
     "execution_count": 12,
     "metadata": {},
     "output_type": "execute_result"
    }
   ],
   "source": [
    "plotMultiselect(df, 'Programming: Language', 'Prog Language')"
   ]
  },
  {
   "cell_type": "code",
   "execution_count": 13,
   "metadata": {},
   "outputs": [
    {
     "data": {
      "text/html": [
       "\n",
       "<div id=\"altair-viz-ebeacd8123e64ea4b6934130f966dee3\"></div>\n",
       "<script type=\"text/javascript\">\n",
       "  (function(spec, embedOpt){\n",
       "    const outputDiv = document.getElementById(\"altair-viz-ebeacd8123e64ea4b6934130f966dee3\");\n",
       "    const paths = {\n",
       "      \"vega\": \"https://cdn.jsdelivr.net/npm//vega@5?noext\",\n",
       "      \"vega-lib\": \"https://cdn.jsdelivr.net/npm//vega-lib?noext\",\n",
       "      \"vega-lite\": \"https://cdn.jsdelivr.net/npm//vega-lite@4.0.2?noext\",\n",
       "      \"vega-embed\": \"https://cdn.jsdelivr.net/npm//vega-embed@6?noext\",\n",
       "    };\n",
       "\n",
       "    function loadScript(lib) {\n",
       "      return new Promise(function(resolve, reject) {\n",
       "        var s = document.createElement('script');\n",
       "        s.src = paths[lib];\n",
       "        s.async = true;\n",
       "        s.onload = () => resolve(paths[lib]);\n",
       "        s.onerror = () => reject(`Error loading script: ${paths[lib]}`);\n",
       "        document.getElementsByTagName(\"head\")[0].appendChild(s);\n",
       "      });\n",
       "    }\n",
       "\n",
       "    function showError(err) {\n",
       "      outputDiv.innerHTML = `<div class=\"error\" style=\"color:red;\">${err}</div>`;\n",
       "      throw err;\n",
       "    }\n",
       "\n",
       "    function displayChart(vegaEmbed) {\n",
       "      vegaEmbed(outputDiv, spec, embedOpt)\n",
       "        .catch(err => showError(`Javascript Error: ${err.message}<br>This usually means there's a typo in your chart specification. See the javascript console for the full traceback.`));\n",
       "    }\n",
       "\n",
       "    if(typeof define === \"function\" && define.amd) {\n",
       "      requirejs.config({paths});\n",
       "      require([\"vega-embed\"], displayChart, err => showError(`Error loading script: ${err.message}`));\n",
       "    } else if (typeof vegaEmbed === \"function\") {\n",
       "      displayChart(vegaEmbed);\n",
       "    } else {\n",
       "      loadScript(\"vega\")\n",
       "        .then(() => loadScript(\"vega-lite\"))\n",
       "        .then(() => loadScript(\"vega-embed\"))\n",
       "        .catch(showError)\n",
       "        .then(() => displayChart(vegaEmbed));\n",
       "    }\n",
       "  })({\"config\": {\"view\": {\"continuousWidth\": 400, \"continuousHeight\": 300}}, \"data\": {\"name\": \"data-0554f58fe8e594b0792ac7e510eebec4\"}, \"mark\": \"bar\", \"encoding\": {\"x\": {\"type\": \"quantitative\", \"axis\": {\"tickMinStep\": 1}, \"field\": \"count\"}, \"y\": {\"type\": \"nominal\", \"field\": \"ML Problem\", \"sort\": \"-x\"}}, \"$schema\": \"https://vega.github.io/schema/vega-lite/v4.0.2.json\", \"datasets\": {\"data-0554f58fe8e594b0792ac7e510eebec4\": [{\"ML Problem\": \"Classification\", \"count\": 16}, {\"ML Problem\": \"Clustering\", \"count\": 9}, {\"ML Problem\": \"Cost Analysis\", \"count\": 1}, {\"ML Problem\": \"Image Segmentation\", \"count\": 1}, {\"ML Problem\": \"Named Entity Resolution\", \"count\": 1}, {\"ML Problem\": \"Regression\", \"count\": 11}, {\"ML Problem\": \"Reinforcement Learning\", \"count\": 1}, {\"ML Problem\": \"Representation Learning\", \"count\": 1}, {\"ML Problem\": \"Sequence modeling and tagging\", \"count\": 1}, {\"ML Problem\": \"Text Analysis\", \"count\": 1}, {\"ML Problem\": \"Time series\", \"count\": 3}, {\"ML Problem\": \"Unsupervised Learning\", \"count\": 1}]}}, {\"mode\": \"vega-lite\"});\n",
       "</script>"
      ],
      "text/plain": [
       "alt.Chart(...)"
      ]
     },
     "execution_count": 13,
     "metadata": {},
     "output_type": "execute_result"
    }
   ],
   "source": [
    "plotMultiselect(df, 'ML: Problem', 'ML Problem')"
   ]
  },
  {
   "cell_type": "code",
   "execution_count": 14,
   "metadata": {},
   "outputs": [
    {
     "data": {
      "text/html": [
       "\n",
       "<div id=\"altair-viz-59d1548f4ab54506b1296e8a19472e5c\"></div>\n",
       "<script type=\"text/javascript\">\n",
       "  (function(spec, embedOpt){\n",
       "    const outputDiv = document.getElementById(\"altair-viz-59d1548f4ab54506b1296e8a19472e5c\");\n",
       "    const paths = {\n",
       "      \"vega\": \"https://cdn.jsdelivr.net/npm//vega@5?noext\",\n",
       "      \"vega-lib\": \"https://cdn.jsdelivr.net/npm//vega-lib?noext\",\n",
       "      \"vega-lite\": \"https://cdn.jsdelivr.net/npm//vega-lite@4.0.2?noext\",\n",
       "      \"vega-embed\": \"https://cdn.jsdelivr.net/npm//vega-embed@6?noext\",\n",
       "    };\n",
       "\n",
       "    function loadScript(lib) {\n",
       "      return new Promise(function(resolve, reject) {\n",
       "        var s = document.createElement('script');\n",
       "        s.src = paths[lib];\n",
       "        s.async = true;\n",
       "        s.onload = () => resolve(paths[lib]);\n",
       "        s.onerror = () => reject(`Error loading script: ${paths[lib]}`);\n",
       "        document.getElementsByTagName(\"head\")[0].appendChild(s);\n",
       "      });\n",
       "    }\n",
       "\n",
       "    function showError(err) {\n",
       "      outputDiv.innerHTML = `<div class=\"error\" style=\"color:red;\">${err}</div>`;\n",
       "      throw err;\n",
       "    }\n",
       "\n",
       "    function displayChart(vegaEmbed) {\n",
       "      vegaEmbed(outputDiv, spec, embedOpt)\n",
       "        .catch(err => showError(`Javascript Error: ${err.message}<br>This usually means there's a typo in your chart specification. See the javascript console for the full traceback.`));\n",
       "    }\n",
       "\n",
       "    if(typeof define === \"function\" && define.amd) {\n",
       "      requirejs.config({paths});\n",
       "      require([\"vega-embed\"], displayChart, err => showError(`Error loading script: ${err.message}`));\n",
       "    } else if (typeof vegaEmbed === \"function\") {\n",
       "      displayChart(vegaEmbed);\n",
       "    } else {\n",
       "      loadScript(\"vega\")\n",
       "        .then(() => loadScript(\"vega-lite\"))\n",
       "        .then(() => loadScript(\"vega-embed\"))\n",
       "        .catch(showError)\n",
       "        .then(() => displayChart(vegaEmbed));\n",
       "    }\n",
       "  })({\"config\": {\"view\": {\"continuousWidth\": 400, \"continuousHeight\": 300}}, \"data\": {\"name\": \"data-e56d7db8f2c45ff3c5794cbfa24f35ff\"}, \"mark\": \"bar\", \"encoding\": {\"x\": {\"type\": \"quantitative\", \"axis\": {\"tickMinStep\": 1}, \"field\": \"count\"}, \"y\": {\"type\": \"nominal\", \"field\": \"Stage in which AutoML is used\", \"sort\": \"-x\"}}, \"$schema\": \"https://vega.github.io/schema/vega-lite/v4.0.2.json\", \"datasets\": {\"data-e56d7db8f2c45ff3c5794cbfa24f35ff\": [{\"Stage in which AutoML is used\": \"Modeling\", \"count\": 12}, {\"Stage in which AutoML is used\": \"Post-processing\", \"count\": 7}, {\"Stage in which AutoML is used\": \"Pre-processing\", \"count\": 5}]}}, {\"mode\": \"vega-lite\"});\n",
       "</script>"
      ],
      "text/plain": [
       "alt.Chart(...)"
      ]
     },
     "execution_count": 14,
     "metadata": {},
     "output_type": "execute_result"
    }
   ],
   "source": [
    "plotMultiselect(df, 'AutoML: Stage', 'Stage in which AutoML is used')"
   ]
  },
  {
   "cell_type": "code",
   "execution_count": 15,
   "metadata": {
    "scrolled": false
   },
   "outputs": [
    {
     "data": {
      "image/png": "[encoded data removed]",
      "text/plain": [
       "<Figure size 432x288 with 1 Axes>"
      ]
     },
     "metadata": {
      "needs_background": "light"
     },
     "output_type": "display_data"
    },
    {
     "data": {
      "image/png": "[encoded data removed]",
      "text/plain": [
       "<Figure size 432x288 with 1 Axes>"
      ]
     },
     "metadata": {
      "needs_background": "light"
     },
     "output_type": "display_data"
    },
    {
     "data": {
      "image/png": "[encoded data removed]",
      "text/plain": [
       "<Figure size 432x288 with 1 Axes>"
      ]
     },
     "metadata": {
      "needs_background": "light"
     },
     "output_type": "display_data"
    },
    {
     "data": {
      "image/png": "[encoded data removed]",
      "text/plain": [
       "<Figure size 432x288 with 1 Axes>"
      ]
     },
     "metadata": {
      "needs_background": "light"
     },
     "output_type": "display_data"
    },
    {
     "data": {
      "image/png": "[encoded data removed]",
      "text/plain": [
       "<Figure size 432x288 with 1 Axes>"
      ]
     },
     "metadata": {
      "needs_background": "light"
     },
     "output_type": "display_data"
    },
    {
     "data": {
      "image/png": "[encoded data removed]",
      "text/plain": [
       "<Figure size 432x288 with 1 Axes>"
      ]
     },
     "metadata": {
      "needs_background": "light"
     },
     "output_type": "display_data"
    },
    {
     "data": {
      "image/png": "[encoded data removed]",
      "text/plain": [
       "<Figure size 432x288 with 1 Axes>"
      ]
     },
     "metadata": {
      "needs_background": "light"
     },
     "output_type": "display_data"
    },
    {
     "data": {
      "image/png": "[encoded data removed]",
      "text/plain": [
       "<Figure size 432x288 with 1 Axes>"
      ]
     },
     "metadata": {
      "needs_background": "light"
     },
     "output_type": "display_data"
    }
   ],
   "source": [
    "for lfield in likert:\n",
    "    plt.figure()\n",
    "    plt.title(lfield)\n",
    "    df[lfield] = df[lfield].astype(float)\n",
    "    df[lfield].dropna().hist()\n",
    "#     chart = alt.Chart(df).mark_bar().encode(\n",
    "#         alt.X(lfield, bin=True),\n",
    "#         y='count()',\n",
    "#     )\n",
    "#     display(chart) "
   ]
  },
  {
   "cell_type": "code",
   "execution_count": 16,
   "metadata": {},
   "outputs": [],
   "source": [
    "automlTools=['AutoSklearn', 'TPOT', 'Auto-Weka', 'Google Cloud AutoML', 'H2O.ai',\n",
    "       'Amazon Sagemaker', 'DataRobot', 'BigML OptiML', 'MLJar',\n",
    "       'Azure AutoML', 'TransmogrifyAI']"
   ]
  },
  {
   "cell_type": "code",
   "execution_count": 17,
   "metadata": {},
   "outputs": [],
   "source": [
    "tooldf = df[automlTools]"
   ]
  },
  {
   "cell_type": "code",
   "execution_count": 18,
   "metadata": {},
   "outputs": [],
   "source": [
    "used = tooldf.mask(tooldf ==\"Used\", 1).mask(tooldf !=\"Used\", 0)  \n",
    "haveused = used.sum(axis=1)"
   ]
  },
  {
   "cell_type": "code",
   "execution_count": 19,
   "metadata": {},
   "outputs": [],
   "source": [
    "haveuseddf = pd.DataFrame()\n",
    "haveuseddf[\"Number of Tools Used\"] = haveused\n",
    "haveuseddf['Participant ID'] = haveused.index\n",
    "haveuseddf = haveuseddf.astype(int)"
   ]
  },
  {
   "cell_type": "code",
   "execution_count": 20,
   "metadata": {},
   "outputs": [
    {
     "data": {
      "text/html": [
       "\n",
       "<div id=\"altair-viz-f3657dce33da4692b253601d5925ccbd\"></div>\n",
       "<script type=\"text/javascript\">\n",
       "  (function(spec, embedOpt){\n",
       "    const outputDiv = document.getElementById(\"altair-viz-f3657dce33da4692b253601d5925ccbd\");\n",
       "    const paths = {\n",
       "      \"vega\": \"https://cdn.jsdelivr.net/npm//vega@5?noext\",\n",
       "      \"vega-lib\": \"https://cdn.jsdelivr.net/npm//vega-lib?noext\",\n",
       "      \"vega-lite\": \"https://cdn.jsdelivr.net/npm//vega-lite@4.0.2?noext\",\n",
       "      \"vega-embed\": \"https://cdn.jsdelivr.net/npm//vega-embed@6?noext\",\n",
       "    };\n",
       "\n",
       "    function loadScript(lib) {\n",
       "      return new Promise(function(resolve, reject) {\n",
       "        var s = document.createElement('script');\n",
       "        s.src = paths[lib];\n",
       "        s.async = true;\n",
       "        s.onload = () => resolve(paths[lib]);\n",
       "        s.onerror = () => reject(`Error loading script: ${paths[lib]}`);\n",
       "        document.getElementsByTagName(\"head\")[0].appendChild(s);\n",
       "      });\n",
       "    }\n",
       "\n",
       "    function showError(err) {\n",
       "      outputDiv.innerHTML = `<div class=\"error\" style=\"color:red;\">${err}</div>`;\n",
       "      throw err;\n",
       "    }\n",
       "\n",
       "    function displayChart(vegaEmbed) {\n",
       "      vegaEmbed(outputDiv, spec, embedOpt)\n",
       "        .catch(err => showError(`Javascript Error: ${err.message}<br>This usually means there's a typo in your chart specification. See the javascript console for the full traceback.`));\n",
       "    }\n",
       "\n",
       "    if(typeof define === \"function\" && define.amd) {\n",
       "      requirejs.config({paths});\n",
       "      require([\"vega-embed\"], displayChart, err => showError(`Error loading script: ${err.message}`));\n",
       "    } else if (typeof vegaEmbed === \"function\") {\n",
       "      displayChart(vegaEmbed);\n",
       "    } else {\n",
       "      loadScript(\"vega\")\n",
       "        .then(() => loadScript(\"vega-lite\"))\n",
       "        .then(() => loadScript(\"vega-embed\"))\n",
       "        .catch(showError)\n",
       "        .then(() => displayChart(vegaEmbed));\n",
       "    }\n",
       "  })({\"config\": {\"view\": {\"continuousWidth\": 400, \"continuousHeight\": 300}}, \"data\": {\"name\": \"data-03f174f72686bfc2871e8520566346b6\"}, \"mark\": \"bar\", \"encoding\": {\"x\": {\"type\": \"quantitative\", \"bin\": true, \"field\": \"Number of Tools Used\"}, \"y\": {\"type\": \"quantitative\", \"aggregate\": \"count\"}}, \"$schema\": \"https://vega.github.io/schema/vega-lite/v4.0.2.json\", \"datasets\": {\"data-03f174f72686bfc2871e8520566346b6\": [{\"Number of Tools Used\": 1, \"Participant ID\": 0}, {\"Number of Tools Used\": 1, \"Participant ID\": 1}, {\"Number of Tools Used\": 2, \"Participant ID\": 2}, {\"Number of Tools Used\": 1, \"Participant ID\": 3}, {\"Number of Tools Used\": 1, \"Participant ID\": 4}, {\"Number of Tools Used\": 1, \"Participant ID\": 5}, {\"Number of Tools Used\": 0, \"Participant ID\": 6}, {\"Number of Tools Used\": 1, \"Participant ID\": 7}, {\"Number of Tools Used\": 8, \"Participant ID\": 8}, {\"Number of Tools Used\": 1, \"Participant ID\": 9}, {\"Number of Tools Used\": 1, \"Participant ID\": 10}, {\"Number of Tools Used\": 1, \"Participant ID\": 11}, {\"Number of Tools Used\": 1, \"Participant ID\": 12}, {\"Number of Tools Used\": 0, \"Participant ID\": 13}, {\"Number of Tools Used\": 2, \"Participant ID\": 14}, {\"Number of Tools Used\": 2, \"Participant ID\": 15}]}}, {\"mode\": \"vega-lite\"});\n",
       "</script>"
      ],
      "text/plain": [
       "alt.Chart(...)"
      ]
     },
     "metadata": {},
     "output_type": "display_data"
    }
   ],
   "source": [
    "chart = alt.Chart(haveuseddf).mark_bar().encode(\n",
    "    x = alt.X(\"Number of Tools Used\",bin=True),\n",
    "    y = alt.Y(\"count()\")\n",
    ")\n",
    "display(chart) "
   ]
  },
  {
   "cell_type": "markdown",
   "metadata": {},
   "source": [
    "The outlier person who used 8 different autoML tools was a biology researcher who tried a bunch of different tools for her problem."
   ]
  },
  {
   "cell_type": "code",
   "execution_count": 21,
   "metadata": {},
   "outputs": [],
   "source": [
    "# plt.figure()\n",
    "# plt.title(\"Number of autoML tools participants have used\")\n",
    "# haveused.hist()\n",
    "# plt.ylabel(\"Num Participants\")"
   ]
  },
  {
   "cell_type": "code",
   "execution_count": 22,
   "metadata": {},
   "outputs": [
    {
     "data": {
      "text/plain": [
       "['Aware of', \"Considered, but didn't use\", 'Used', 'Never Heard of']"
      ]
     },
     "execution_count": 22,
     "metadata": {},
     "output_type": "execute_result"
    }
   ],
   "source": [
    "[\"Aware of\",\"Considered, but didn't use\",\"Used\",\"Never Heard of\"]"
   ]
  },
  {
   "cell_type": "code",
   "execution_count": 23,
   "metadata": {},
   "outputs": [
    {
     "data": {
      "text/html": [
       "\n",
       "<div id=\"altair-viz-7c4493e6b2064eefb9bce916fc76e914\"></div>\n",
       "<script type=\"text/javascript\">\n",
       "  (function(spec, embedOpt){\n",
       "    const outputDiv = document.getElementById(\"altair-viz-7c4493e6b2064eefb9bce916fc76e914\");\n",
       "    const paths = {\n",
       "      \"vega\": \"https://cdn.jsdelivr.net/npm//vega@5?noext\",\n",
       "      \"vega-lib\": \"https://cdn.jsdelivr.net/npm//vega-lib?noext\",\n",
       "      \"vega-lite\": \"https://cdn.jsdelivr.net/npm//vega-lite@4.0.2?noext\",\n",
       "      \"vega-embed\": \"https://cdn.jsdelivr.net/npm//vega-embed@6?noext\",\n",
       "    };\n",
       "\n",
       "    function loadScript(lib) {\n",
       "      return new Promise(function(resolve, reject) {\n",
       "        var s = document.createElement('script');\n",
       "        s.src = paths[lib];\n",
       "        s.async = true;\n",
       "        s.onload = () => resolve(paths[lib]);\n",
       "        s.onerror = () => reject(`Error loading script: ${paths[lib]}`);\n",
       "        document.getElementsByTagName(\"head\")[0].appendChild(s);\n",
       "      });\n",
       "    }\n",
       "\n",
       "    function showError(err) {\n",
       "      outputDiv.innerHTML = `<div class=\"error\" style=\"color:red;\">${err}</div>`;\n",
       "      throw err;\n",
       "    }\n",
       "\n",
       "    function displayChart(vegaEmbed) {\n",
       "      vegaEmbed(outputDiv, spec, embedOpt)\n",
       "        .catch(err => showError(`Javascript Error: ${err.message}<br>This usually means there's a typo in your chart specification. See the javascript console for the full traceback.`));\n",
       "    }\n",
       "\n",
       "    if(typeof define === \"function\" && define.amd) {\n",
       "      requirejs.config({paths});\n",
       "      require([\"vega-embed\"], displayChart, err => showError(`Error loading script: ${err.message}`));\n",
       "    } else if (typeof vegaEmbed === \"function\") {\n",
       "      displayChart(vegaEmbed);\n",
       "    } else {\n",
       "      loadScript(\"vega\")\n",
       "        .then(() => loadScript(\"vega-lite\"))\n",
       "        .then(() => loadScript(\"vega-embed\"))\n",
       "        .catch(showError)\n",
       "        .then(() => displayChart(vegaEmbed));\n",
       "    }\n",
       "  })({\"config\": {\"view\": {\"continuousWidth\": 400, \"continuousHeight\": 300}}, \"data\": {\"name\": \"data-4f17e551e0239ca0e98eb5420cb8cc7c\"}, \"mark\": \"bar\", \"encoding\": {\"x\": {\"type\": \"quantitative\", \"bin\": true, \"field\": \"Number of Tools At Least Heard of\"}, \"y\": {\"type\": \"quantitative\", \"aggregate\": \"count\"}}, \"$schema\": \"https://vega.github.io/schema/vega-lite/v4.0.2.json\", \"datasets\": {\"data-4f17e551e0239ca0e98eb5420cb8cc7c\": [{\"Number of Tools At Least Heard of\": 9, \"Participant ID\": 0}, {\"Number of Tools At Least Heard of\": 4, \"Participant ID\": 1}, {\"Number of Tools At Least Heard of\": 7, \"Participant ID\": 2}, {\"Number of Tools At Least Heard of\": 8, \"Participant ID\": 3}, {\"Number of Tools At Least Heard of\": 5, \"Participant ID\": 4}, {\"Number of Tools At Least Heard of\": 8, \"Participant ID\": 5}, {\"Number of Tools At Least Heard of\": 7, \"Participant ID\": 6}, {\"Number of Tools At Least Heard of\": 2, \"Participant ID\": 7}, {\"Number of Tools At Least Heard of\": 8, \"Participant ID\": 8}, {\"Number of Tools At Least Heard of\": 11, \"Participant ID\": 9}, {\"Number of Tools At Least Heard of\": 10, \"Participant ID\": 10}, {\"Number of Tools At Least Heard of\": 11, \"Participant ID\": 11}, {\"Number of Tools At Least Heard of\": 9, \"Participant ID\": 12}, {\"Number of Tools At Least Heard of\": 10, \"Participant ID\": 13}, {\"Number of Tools At Least Heard of\": 10, \"Participant ID\": 14}, {\"Number of Tools At Least Heard of\": 11, \"Participant ID\": 15}]}}, {\"mode\": \"vega-lite\"});\n",
       "</script>"
      ],
      "text/plain": [
       "alt.Chart(...)"
      ]
     },
     "metadata": {},
     "output_type": "display_data"
    }
   ],
   "source": [
    "heard = tooldf.mask(tooldf !=\"Never Heard of\", 1).mask(tooldf ==\"Never Heard of\", 0)  \n",
    "haveheard = heard.sum(axis=1)\n",
    "havehearddf = pd.DataFrame()\n",
    "havehearddf[\"Number of Tools At Least Heard of\"] = haveheard\n",
    "havehearddf['Participant ID'] = haveheard.index\n",
    "havehearddf = havehearddf.astype(int)\n",
    "\n",
    "chart = alt.Chart(havehearddf).mark_bar().encode(\n",
    "    x = alt.X(\"Number of Tools At Least Heard of\",bin=True),\n",
    "    y = alt.Y(\"count()\")\n",
    ")\n",
    "display(chart) "
   ]
  },
  {
   "cell_type": "code",
   "execution_count": null,
   "metadata": {},
   "outputs": [],
   "source": []
  }
 ],
 "metadata": {
  "kernelspec": {
   "display_name": "Python 3",
   "language": "python",
   "name": "python3"
  },
  "language_info": {
   "codemirror_mode": {
    "name": "ipython",
    "version": 3
   },
   "file_extension": ".py",
   "mimetype": "text/x-python",
   "name": "python",
   "nbconvert_exporter": "python",
   "pygments_lexer": "ipython3",
   "version": "3.7.5"
  }
 },
 "nbformat": 4,
 "nbformat_minor": 2
}
